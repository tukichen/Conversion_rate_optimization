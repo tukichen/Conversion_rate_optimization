{
 "cells": [
  {
   "cell_type": "markdown",
   "metadata": {},
   "source": [
    "# Conversion Rate Optimization using Classification Model\n",
    "\n",
    "The data revolution enable us to collect all sorts of data about customers who purchase on a website as well as potential customers who had not yet purchase. These data can reveal insights on what's working well (and potentially scale it even further) and what's not working well (and fix it).\n",
    "\n",
    "The goal of this project is to build a model that predicts conversion rate and, based on the model, come up with ideas to improve revenue.\n",
    "\n",
    "\n",
    "## Goal\n",
    "* Predict conversion rate\n",
    "* Come up with recommendations for the product team and the marketing team to improve conversion rate\n",
    "\n",
    "\n",
    "## Description of data\n",
    "Website users information: \n",
    "* Whether they converted or not ; \n",
    "* User characteristics: Country; The marketing channel; Age; Repeat users or not; The number of pages visited during that session (as a proxy for site activity/time spent on site).\n",
    "\n",
    "### Columns:\n",
    "* country : user country based on the IP address\n",
    "* age : user age. Self-reported at sign-in step\n",
    "* new_user : whether the user created the account during this session or had already an account and simply came back to the site\n",
    "* source : marketing channel source\n",
    "* Ads: came to the site by clicking on an advertisement\n",
    "* Seo: came to the site by clicking on search results\n",
    "* Direct: came to the site by directly typing the URL on the browser\n",
    "* total_pages_visited: number of total pages visited during the session. This is a proxy for time spent on site and engagement during the session.\n",
    "* converted: this is our label. 1 means they converted within the session, 0 means they left without buying anything. The company goal is to increase conversion rate: # conversions / total sessions.\n",
    "\n"
   ]
  },
  {
   "cell_type": "markdown",
   "metadata": {
    "collapsed": true
   },
   "source": [
    "## 1. Exploratory Data Analysis and Feature Generation \n",
    "### 1.1 Read data from csv file"
   ]
  },
  {
   "cell_type": "code",
   "execution_count": 3,
   "metadata": {
    "collapsed": true
   },
   "outputs": [],
   "source": [
    "# import necessary pacakges\n",
    "import numpy as np\n",
    "import pandas as pd\n",
    "import matplotlib.pyplot as plt\n",
    "import sklearn\n",
    "%matplotlib inline\n",
    "\n",
    "from sklearn.pipeline import Pipeline\n",
    "from sklearn import base\n",
    "from sklearn.preprocessing import OneHotEncoder, LabelEncoder\n",
    "from sklearn.model_selection import train_test_split, GridSearchCV \n",
    "from sklearn.neighbors import KNeighborsRegressor\n",
    "from sklearn.ensemble import RandomForestRegressor\n",
    "from sklearn.linear_model import LogisticRegression\n",
    "from sklearn.metrics import accuracy_score, precision_score, recall_score"
   ]
  },
  {
   "cell_type": "code",
   "execution_count": 4,
   "metadata": {},
   "outputs": [
    {
     "name": "stdout",
     "output_type": "stream",
     "text": [
      "(316200, 6)\n"
     ]
    },
    {
     "data": {
      "text/html": [
       "<div>\n",
       "<table border=\"1\" class=\"dataframe\">\n",
       "  <thead>\n",
       "    <tr style=\"text-align: right;\">\n",
       "      <th></th>\n",
       "      <th>country</th>\n",
       "      <th>age</th>\n",
       "      <th>new_user</th>\n",
       "      <th>source</th>\n",
       "      <th>total_pages_visited</th>\n",
       "      <th>converted</th>\n",
       "    </tr>\n",
       "  </thead>\n",
       "  <tbody>\n",
       "    <tr>\n",
       "      <th>0</th>\n",
       "      <td>UK</td>\n",
       "      <td>25</td>\n",
       "      <td>1</td>\n",
       "      <td>Ads</td>\n",
       "      <td>1</td>\n",
       "      <td>0</td>\n",
       "    </tr>\n",
       "    <tr>\n",
       "      <th>1</th>\n",
       "      <td>US</td>\n",
       "      <td>23</td>\n",
       "      <td>1</td>\n",
       "      <td>Seo</td>\n",
       "      <td>5</td>\n",
       "      <td>0</td>\n",
       "    </tr>\n",
       "    <tr>\n",
       "      <th>2</th>\n",
       "      <td>US</td>\n",
       "      <td>28</td>\n",
       "      <td>1</td>\n",
       "      <td>Seo</td>\n",
       "      <td>4</td>\n",
       "      <td>0</td>\n",
       "    </tr>\n",
       "    <tr>\n",
       "      <th>3</th>\n",
       "      <td>China</td>\n",
       "      <td>39</td>\n",
       "      <td>1</td>\n",
       "      <td>Seo</td>\n",
       "      <td>5</td>\n",
       "      <td>0</td>\n",
       "    </tr>\n",
       "    <tr>\n",
       "      <th>4</th>\n",
       "      <td>US</td>\n",
       "      <td>30</td>\n",
       "      <td>1</td>\n",
       "      <td>Seo</td>\n",
       "      <td>6</td>\n",
       "      <td>0</td>\n",
       "    </tr>\n",
       "  </tbody>\n",
       "</table>\n",
       "</div>"
      ],
      "text/plain": [
       "  country  age  new_user source  total_pages_visited  converted\n",
       "0      UK   25         1    Ads                    1          0\n",
       "1      US   23         1    Seo                    5          0\n",
       "2      US   28         1    Seo                    4          0\n",
       "3   China   39         1    Seo                    5          0\n",
       "4      US   30         1    Seo                    6          0"
      ]
     },
     "execution_count": 4,
     "metadata": {},
     "output_type": "execute_result"
    }
   ],
   "source": [
    "# read data as a pandas dataframe\n",
    "data = pd.read_csv(\"conversion_data.csv\")\n",
    "print(data.shape)    # check size of the data, there are 31.6K user records\n",
    "data.head()          # look at the first 5 rows of data"
   ]
  },
  {
   "cell_type": "markdown",
   "metadata": {},
   "source": [
    "### 1.2 Data cleaning\n",
    "Look at the data to check any usual values. First we get some summary on numeric data. "
   ]
  },
  {
   "cell_type": "code",
   "execution_count": 5,
   "metadata": {},
   "outputs": [
    {
     "data": {
      "text/html": [
       "<div>\n",
       "<table border=\"1\" class=\"dataframe\">\n",
       "  <thead>\n",
       "    <tr style=\"text-align: right;\">\n",
       "      <th></th>\n",
       "      <th>age</th>\n",
       "      <th>new_user</th>\n",
       "      <th>total_pages_visited</th>\n",
       "      <th>converted</th>\n",
       "    </tr>\n",
       "  </thead>\n",
       "  <tbody>\n",
       "    <tr>\n",
       "      <th>count</th>\n",
       "      <td>316200.000000</td>\n",
       "      <td>316200.000000</td>\n",
       "      <td>316200.000000</td>\n",
       "      <td>316200.000000</td>\n",
       "    </tr>\n",
       "    <tr>\n",
       "      <th>mean</th>\n",
       "      <td>30.569858</td>\n",
       "      <td>0.685465</td>\n",
       "      <td>4.872966</td>\n",
       "      <td>0.032258</td>\n",
       "    </tr>\n",
       "    <tr>\n",
       "      <th>std</th>\n",
       "      <td>8.271802</td>\n",
       "      <td>0.464331</td>\n",
       "      <td>3.341104</td>\n",
       "      <td>0.176685</td>\n",
       "    </tr>\n",
       "    <tr>\n",
       "      <th>min</th>\n",
       "      <td>17.000000</td>\n",
       "      <td>0.000000</td>\n",
       "      <td>1.000000</td>\n",
       "      <td>0.000000</td>\n",
       "    </tr>\n",
       "    <tr>\n",
       "      <th>25%</th>\n",
       "      <td>24.000000</td>\n",
       "      <td>0.000000</td>\n",
       "      <td>2.000000</td>\n",
       "      <td>0.000000</td>\n",
       "    </tr>\n",
       "    <tr>\n",
       "      <th>50%</th>\n",
       "      <td>30.000000</td>\n",
       "      <td>1.000000</td>\n",
       "      <td>4.000000</td>\n",
       "      <td>0.000000</td>\n",
       "    </tr>\n",
       "    <tr>\n",
       "      <th>75%</th>\n",
       "      <td>36.000000</td>\n",
       "      <td>1.000000</td>\n",
       "      <td>7.000000</td>\n",
       "      <td>0.000000</td>\n",
       "    </tr>\n",
       "    <tr>\n",
       "      <th>max</th>\n",
       "      <td>123.000000</td>\n",
       "      <td>1.000000</td>\n",
       "      <td>29.000000</td>\n",
       "      <td>1.000000</td>\n",
       "    </tr>\n",
       "  </tbody>\n",
       "</table>\n",
       "</div>"
      ],
      "text/plain": [
       "                 age       new_user  total_pages_visited      converted\n",
       "count  316200.000000  316200.000000        316200.000000  316200.000000\n",
       "mean       30.569858       0.685465             4.872966       0.032258\n",
       "std         8.271802       0.464331             3.341104       0.176685\n",
       "min        17.000000       0.000000             1.000000       0.000000\n",
       "25%        24.000000       0.000000             2.000000       0.000000\n",
       "50%        30.000000       1.000000             4.000000       0.000000\n",
       "75%        36.000000       1.000000             7.000000       0.000000\n",
       "max       123.000000       1.000000            29.000000       1.000000"
      ]
     },
     "execution_count": 5,
     "metadata": {},
     "output_type": "execute_result"
    }
   ],
   "source": [
    "data.describe()"
   ]
  },
  {
   "cell_type": "markdown",
   "metadata": {},
   "source": [
    "Some findings:\n",
    "* 68.5% of the users are new users;\n",
    "* Overall conversion rate is 0.0323;\n",
    "* The maximum age looks odd and need futher investigation."
   ]
  },
  {
   "cell_type": "code",
   "execution_count": 6,
   "metadata": {},
   "outputs": [
    {
     "data": {
      "text/html": [
       "<div>\n",
       "<table border=\"1\" class=\"dataframe\">\n",
       "  <thead>\n",
       "    <tr style=\"text-align: right;\">\n",
       "      <th></th>\n",
       "      <th>country</th>\n",
       "      <th>age</th>\n",
       "      <th>new_user</th>\n",
       "      <th>source</th>\n",
       "      <th>total_pages_visited</th>\n",
       "      <th>converted</th>\n",
       "    </tr>\n",
       "  </thead>\n",
       "  <tbody>\n",
       "    <tr>\n",
       "      <th>90928</th>\n",
       "      <td>Germany</td>\n",
       "      <td>123</td>\n",
       "      <td>0</td>\n",
       "      <td>Seo</td>\n",
       "      <td>15</td>\n",
       "      <td>1</td>\n",
       "    </tr>\n",
       "    <tr>\n",
       "      <th>295581</th>\n",
       "      <td>UK</td>\n",
       "      <td>111</td>\n",
       "      <td>0</td>\n",
       "      <td>Ads</td>\n",
       "      <td>10</td>\n",
       "      <td>1</td>\n",
       "    </tr>\n",
       "    <tr>\n",
       "      <th>265167</th>\n",
       "      <td>US</td>\n",
       "      <td>79</td>\n",
       "      <td>1</td>\n",
       "      <td>Direct</td>\n",
       "      <td>1</td>\n",
       "      <td>0</td>\n",
       "    </tr>\n",
       "    <tr>\n",
       "      <th>192644</th>\n",
       "      <td>US</td>\n",
       "      <td>77</td>\n",
       "      <td>0</td>\n",
       "      <td>Direct</td>\n",
       "      <td>4</td>\n",
       "      <td>0</td>\n",
       "    </tr>\n",
       "    <tr>\n",
       "      <th>154217</th>\n",
       "      <td>US</td>\n",
       "      <td>73</td>\n",
       "      <td>1</td>\n",
       "      <td>Seo</td>\n",
       "      <td>5</td>\n",
       "      <td>0</td>\n",
       "    </tr>\n",
       "  </tbody>\n",
       "</table>\n",
       "</div>"
      ],
      "text/plain": [
       "        country  age  new_user  source  total_pages_visited  converted\n",
       "90928   Germany  123         0     Seo                   15          1\n",
       "295581       UK  111         0     Ads                   10          1\n",
       "265167       US   79         1  Direct                    1          0\n",
       "192644       US   77         0  Direct                    4          0\n",
       "154217       US   73         1     Seo                    5          0"
      ]
     },
     "execution_count": 6,
     "metadata": {},
     "output_type": "execute_result"
    }
   ],
   "source": [
    "data.sort_values(by='age', ascending = False).head()"
   ]
  },
  {
   "cell_type": "markdown",
   "metadata": {},
   "source": [
    "It's not likely that a customer's age is >100 and we have a large sample, so I just drop those 2 records. "
   ]
  },
  {
   "cell_type": "code",
   "execution_count": 41,
   "metadata": {},
   "outputs": [],
   "source": [
    "data = data.loc[data['age']<100].reset_index().drop('index', axis=1)"
   ]
  },
  {
   "cell_type": "markdown",
   "metadata": {
    "collapsed": true
   },
   "source": [
    "### 1.3 Exploratory analysis\n",
    "### 1.3.1 Histogram of numeric variables\n",
    "First, plot the histogram of each continous variable age and total_pages_visited by 'converted'. \n"
   ]
  },
  {
   "cell_type": "code",
   "execution_count": 8,
   "metadata": {},
   "outputs": [
    {
     "data": {
      "text/plain": [
       "<matplotlib.legend.Legend at 0x10ea972e8>"
      ]
     },
     "execution_count": 8,
     "metadata": {},
     "output_type": "execute_result"
    },
    {
     "data": {
      "image/png": "[encoded data removed]",
      "text/plain": [
       "<matplotlib.figure.Figure at 0x10f2def98>"
      ]
     },
     "metadata": {},
     "output_type": "display_data"
    }
   ],
   "source": [
    "fig, axes = plt.subplots(nrows=1, ncols=2, figsize=(16, 5))\n",
    "\n",
    "data.loc[data['converted']==1 ,'age'].plot.hist( bins= 30, ax=axes[0], alpha=.3, title= 'Age', label='Converted')\n",
    "data.loc[data['converted']==0 ,'age'].plot.hist( bins= 30, ax=axes[0], alpha=.3, label='Not converted')\n",
    "\n",
    "data.loc[data['converted']==1 ,'total_pages_visited'].plot.hist( bins= 30, ax=axes[1], alpha=.3, \n",
    "                                                                title= 'Total pages visited', label='Converted')\n",
    "data.loc[data['converted']==0 ,'total_pages_visited'].plot.hist( bins= 30, ax=axes[1], alpha=.3,  label='Not converted')\n",
    "\n",
    "plt.legend()"
   ]
  },
  {
   "cell_type": "markdown",
   "metadata": {},
   "source": [
    "Findings:\n",
    "* There are more younger users (age 20-40) than older users (age >40); Hard to observe difference in age between  converted users and users who did not convert.\n",
    "* Conversion is associated with more total pages visited. \n",
    "\n",
    "Explore relationship between total_pages_visited and age:"
   ]
  },
  {
   "cell_type": "code",
   "execution_count": 9,
   "metadata": {},
   "outputs": [
    {
     "name": "stdout",
     "output_type": "stream",
     "text": [
      "                     total_pages_visited       age\n",
      "total_pages_visited             1.000000 -0.000465\n",
      "age                            -0.000465  1.000000\n",
      "                     total_pages_visited       age\n",
      "total_pages_visited             1.000000  0.001367\n",
      "age                             0.001367  1.000000\n"
     ]
    },
    {
     "data": {
      "text/plain": [
       "<matplotlib.legend.Legend at 0x1114d2d68>"
      ]
     },
     "execution_count": 9,
     "metadata": {},
     "output_type": "execute_result"
    },
    {
     "data": {
      "image/png": "[encoded data removed]",
      "text/plain": [
       "<matplotlib.figure.Figure at 0x10f2deba8>"
      ]
     },
     "metadata": {},
     "output_type": "display_data"
    }
   ],
   "source": [
    "# compute correlation between age and total_pages_visted:\n",
    "print(data.loc[data['converted']==1][['total_pages_visited','age']].corr())\n",
    "print(data.loc[data['converted']==0][['total_pages_visited','age']].corr())\n",
    "\n",
    "# visualized the relationship by converted or not\n",
    "\n",
    "plt.figure(figsize= (10,6))\n",
    "plt.scatter(data.loc[data['converted']==0, 'total_pages_visited'], data.loc[data['converted']==0, 'age'], \n",
    "            label = 'Converted', alpha=0.02)\n",
    "plt.scatter(data.loc[data['converted']==1, 'total_pages_visited'], data.loc[data['converted']==1, 'age'], \n",
    "            label =  'Not converted', alpha=0.02)\n",
    "plt.legend()"
   ]
  },
  {
   "cell_type": "markdown",
   "metadata": {},
   "source": [
    "### 1.3.2 Frequency table of categorical features by Converted"
   ]
  },
  {
   "cell_type": "code",
   "execution_count": 10,
   "metadata": {},
   "outputs": [
    {
     "data": {
      "text/plain": [
       "<matplotlib.axes._subplots.AxesSubplot at 0x10f2de320>"
      ]
     },
     "execution_count": 10,
     "metadata": {},
     "output_type": "execute_result"
    },
    {
     "data": {
      "image/png": "[encoded data removed]",
      "text/plain": [
       "<matplotlib.figure.Figure at 0x115ffb748>"
      ]
     },
     "metadata": {},
     "output_type": "display_data"
    }
   ],
   "source": [
    "data.groupby([ 'new_user', 'converted']).size().unstack().plot.bar(stacked= True, title =\"Conversion by new user or not\")"
   ]
  },
  {
   "cell_type": "code",
   "execution_count": 11,
   "metadata": {},
   "outputs": [
    {
     "data": {
      "text/html": [
       "<div>\n",
       "<table border=\"1\" class=\"dataframe\">\n",
       "  <thead>\n",
       "    <tr style=\"text-align: right;\">\n",
       "      <th></th>\n",
       "      <th>converted</th>\n",
       "    </tr>\n",
       "    <tr>\n",
       "      <th>new_user</th>\n",
       "      <th></th>\n",
       "    </tr>\n",
       "  </thead>\n",
       "  <tbody>\n",
       "    <tr>\n",
       "      <th>0</th>\n",
       "      <td>0.071983</td>\n",
       "    </tr>\n",
       "    <tr>\n",
       "      <th>1</th>\n",
       "      <td>0.014021</td>\n",
       "    </tr>\n",
       "  </tbody>\n",
       "</table>\n",
       "</div>"
      ],
      "text/plain": [
       "          converted\n",
       "new_user           \n",
       "0          0.071983\n",
       "1          0.014021"
      ]
     },
     "execution_count": 11,
     "metadata": {},
     "output_type": "execute_result"
    }
   ],
   "source": [
    "data[['converted','new_user']].groupby(['new_user']).mean()"
   ]
  },
  {
   "cell_type": "markdown",
   "metadata": {},
   "source": [
    "Finding: There are more new users than users who already have an account, but return user have higher conversion rate."
   ]
  },
  {
   "cell_type": "code",
   "execution_count": 12,
   "metadata": {},
   "outputs": [
    {
     "data": {
      "text/plain": [
       "<matplotlib.axes._subplots.AxesSubplot at 0x1163b3cc0>"
      ]
     },
     "execution_count": 12,
     "metadata": {},
     "output_type": "execute_result"
    },
    {
     "data": {
      "image/png": "[encoded data removed]",
      "text/plain": [
       "<matplotlib.figure.Figure at 0x11624eda0>"
      ]
     },
     "metadata": {},
     "output_type": "display_data"
    }
   ],
   "source": [
    "tmp1 = data.groupby(['country', 'converted']).size().unstack()\n",
    "tmp2 = data.groupby(['source', 'converted']).size().unstack()\n",
    "fig, axes = plt.subplots(nrows=1, ncols=2, figsize=(16, 5))\n",
    "tmp2.plot.bar(stacked= True, ax=axes[0], title = 'Conversion by source')\n",
    "tmp1.plot.bar(stacked= True, ax=axes[1], title = 'Conversion by country')"
   ]
  },
  {
   "cell_type": "code",
   "execution_count": 13,
   "metadata": {},
   "outputs": [
    {
     "data": {
      "text/html": [
       "<div>\n",
       "<table border=\"1\" class=\"dataframe\">\n",
       "  <thead>\n",
       "    <tr style=\"text-align: right;\">\n",
       "      <th></th>\n",
       "      <th>converted</th>\n",
       "    </tr>\n",
       "    <tr>\n",
       "      <th>source</th>\n",
       "      <th></th>\n",
       "    </tr>\n",
       "  </thead>\n",
       "  <tbody>\n",
       "    <tr>\n",
       "      <th>Ads</th>\n",
       "      <td>0.034472</td>\n",
       "    </tr>\n",
       "    <tr>\n",
       "      <th>Direct</th>\n",
       "      <td>0.028169</td>\n",
       "    </tr>\n",
       "    <tr>\n",
       "      <th>Seo</th>\n",
       "      <td>0.032888</td>\n",
       "    </tr>\n",
       "  </tbody>\n",
       "</table>\n",
       "</div>"
      ],
      "text/plain": [
       "        converted\n",
       "source           \n",
       "Ads      0.034472\n",
       "Direct   0.028169\n",
       "Seo      0.032888"
      ]
     },
     "execution_count": 13,
     "metadata": {},
     "output_type": "execute_result"
    }
   ],
   "source": [
    "data[['converted','source']].groupby(['source']).mean()"
   ]
  },
  {
   "cell_type": "code",
   "execution_count": 14,
   "metadata": {},
   "outputs": [
    {
     "data": {
      "text/html": [
       "<div>\n",
       "<table border=\"1\" class=\"dataframe\">\n",
       "  <thead>\n",
       "    <tr style=\"text-align: right;\">\n",
       "      <th></th>\n",
       "      <th>converted</th>\n",
       "    </tr>\n",
       "    <tr>\n",
       "      <th>country</th>\n",
       "      <th></th>\n",
       "    </tr>\n",
       "  </thead>\n",
       "  <tbody>\n",
       "    <tr>\n",
       "      <th>China</th>\n",
       "      <td>0.001332</td>\n",
       "    </tr>\n",
       "    <tr>\n",
       "      <th>Germany</th>\n",
       "      <td>0.062428</td>\n",
       "    </tr>\n",
       "    <tr>\n",
       "      <th>UK</th>\n",
       "      <td>0.052612</td>\n",
       "    </tr>\n",
       "    <tr>\n",
       "      <th>US</th>\n",
       "      <td>0.037801</td>\n",
       "    </tr>\n",
       "  </tbody>\n",
       "</table>\n",
       "</div>"
      ],
      "text/plain": [
       "         converted\n",
       "country           \n",
       "China     0.001332\n",
       "Germany   0.062428\n",
       "UK        0.052612\n",
       "US        0.037801"
      ]
     },
     "execution_count": 14,
     "metadata": {},
     "output_type": "execute_result"
    }
   ],
   "source": [
    "data[['converted','country']].groupby(['country']).mean()"
   ]
  },
  {
   "cell_type": "markdown",
   "metadata": {},
   "source": [
    "### 1.4 Build a python class for feature generation - One Hot Encoding\n",
    "use OneHotEncoder, LabelEncoder from sklearn to convert categorical variables (UniqueCarrier, Month and Hour) into binary variables to use for model fitting.\n",
    "\n",
    "* Build a custom transformer that will transform data to features we want:"
   ]
  },
  {
   "cell_type": "code",
   "execution_count": 15,
   "metadata": {},
   "outputs": [],
   "source": [
    "# (base.BaseEstimator, base.TransformerMixin)-> this class will have .fit(),.fit_transform( mothods\n",
    "\n",
    "class ColumnSelectTransformer(base.BaseEstimator, base.TransformerMixin):\n",
    "    \n",
    "    def __init__(self, categorical_variables, numeric_variables): \n",
    "        # parameters taken by the transformer: a list of categorical_variables, a list of numeric_variables\n",
    "        self.categorical_variables = categorical_variables  # We will need these in transform()\n",
    "        self.numeric_variables     = numeric_variables\n",
    "    \n",
    "    def fit(self, X, y=None):\n",
    "        # Create empty list to store encode fit\n",
    "        self.label_encode = [] \n",
    "        self.OneHot_encode = []\n",
    "        \n",
    "        # fit LabelEncoder and OneHotEncoder to data\n",
    "        for i, column in enumerate(self.categorical_variables):\n",
    "            LE = LabelEncoder()                 # encode categorical variables as numeric\n",
    "            OHE = OneHotEncoder( sparse=False)  # do one hot encoding\n",
    "            OHE.fit(LE.fit_transform( X[column]).reshape(-1,1))\n",
    "            self.label_encode.append( LE )    \n",
    "            self.OneHot_encode.append( OHE )  \n",
    "        return self\n",
    "    \n",
    "    def transform(self, X):\n",
    "        X = X.reset_index() \n",
    "        df_cat = []  # empty list to store transformation result for each categorical variable\n",
    "        \n",
    "        # use LabelEncoder and OneHotEncoder to transform data\n",
    "        for i, column in enumerate(self.categorical_variables):\n",
    "            df_feature = self.OneHot_encode[i].transform(self.label_encode[i].transform( X[column]).reshape(-1,1))\n",
    "            df_feature = pd.DataFrame(df_feature)\n",
    "            df_feature.columns = [column  +'_'+str(x) for x in list(self.label_encode[i].classes_)]\n",
    "            df_cat.append(df_feature)\n",
    "            \n",
    "        # Merge these dummary variables with numeric features: \n",
    "        df_numeric = X[self.numeric_variables]\n",
    "        X = pd.concat([df_numeric]+ df_cat, axis=1) \n",
    "        \n",
    "        return X "
   ]
  },
  {
   "cell_type": "markdown",
   "metadata": {},
   "source": [
    "* Transform data, \n",
    "* list feature names\n",
    "* look at the transformed feature matrix"
   ]
  },
  {
   "cell_type": "code",
   "execution_count": 16,
   "metadata": {},
   "outputs": [
    {
     "name": "stdout",
     "output_type": "stream",
     "text": [
      "['total_pages_visited', 'age', 'new_user', 'country_China', 'country_Germany', 'country_UK', 'country_US', 'source_Ads', 'source_Direct', 'source_Seo']\n"
     ]
    },
    {
     "data": {
      "text/html": [
       "<div>\n",
       "<table border=\"1\" class=\"dataframe\">\n",
       "  <thead>\n",
       "    <tr style=\"text-align: right;\">\n",
       "      <th></th>\n",
       "      <th>total_pages_visited</th>\n",
       "      <th>age</th>\n",
       "      <th>new_user</th>\n",
       "      <th>country_China</th>\n",
       "      <th>country_Germany</th>\n",
       "      <th>country_UK</th>\n",
       "      <th>country_US</th>\n",
       "      <th>source_Ads</th>\n",
       "      <th>source_Direct</th>\n",
       "      <th>source_Seo</th>\n",
       "    </tr>\n",
       "  </thead>\n",
       "  <tbody>\n",
       "    <tr>\n",
       "      <th>0</th>\n",
       "      <td>1</td>\n",
       "      <td>25</td>\n",
       "      <td>1</td>\n",
       "      <td>0.0</td>\n",
       "      <td>0.0</td>\n",
       "      <td>1.0</td>\n",
       "      <td>0.0</td>\n",
       "      <td>1.0</td>\n",
       "      <td>0.0</td>\n",
       "      <td>0.0</td>\n",
       "    </tr>\n",
       "    <tr>\n",
       "      <th>1</th>\n",
       "      <td>5</td>\n",
       "      <td>23</td>\n",
       "      <td>1</td>\n",
       "      <td>0.0</td>\n",
       "      <td>0.0</td>\n",
       "      <td>0.0</td>\n",
       "      <td>1.0</td>\n",
       "      <td>0.0</td>\n",
       "      <td>0.0</td>\n",
       "      <td>1.0</td>\n",
       "    </tr>\n",
       "    <tr>\n",
       "      <th>2</th>\n",
       "      <td>4</td>\n",
       "      <td>28</td>\n",
       "      <td>1</td>\n",
       "      <td>0.0</td>\n",
       "      <td>0.0</td>\n",
       "      <td>0.0</td>\n",
       "      <td>1.0</td>\n",
       "      <td>0.0</td>\n",
       "      <td>0.0</td>\n",
       "      <td>1.0</td>\n",
       "    </tr>\n",
       "    <tr>\n",
       "      <th>3</th>\n",
       "      <td>5</td>\n",
       "      <td>39</td>\n",
       "      <td>1</td>\n",
       "      <td>1.0</td>\n",
       "      <td>0.0</td>\n",
       "      <td>0.0</td>\n",
       "      <td>0.0</td>\n",
       "      <td>0.0</td>\n",
       "      <td>0.0</td>\n",
       "      <td>1.0</td>\n",
       "    </tr>\n",
       "    <tr>\n",
       "      <th>4</th>\n",
       "      <td>6</td>\n",
       "      <td>30</td>\n",
       "      <td>1</td>\n",
       "      <td>0.0</td>\n",
       "      <td>0.0</td>\n",
       "      <td>0.0</td>\n",
       "      <td>1.0</td>\n",
       "      <td>0.0</td>\n",
       "      <td>0.0</td>\n",
       "      <td>1.0</td>\n",
       "    </tr>\n",
       "  </tbody>\n",
       "</table>\n",
       "</div>"
      ],
      "text/plain": [
       "   total_pages_visited  age  new_user  country_China  country_Germany  \\\n",
       "0                    1   25         1            0.0              0.0   \n",
       "1                    5   23         1            0.0              0.0   \n",
       "2                    4   28         1            0.0              0.0   \n",
       "3                    5   39         1            1.0              0.0   \n",
       "4                    6   30         1            0.0              0.0   \n",
       "\n",
       "   country_UK  country_US  source_Ads  source_Direct  source_Seo  \n",
       "0         1.0         0.0         1.0            0.0         0.0  \n",
       "1         0.0         1.0         0.0            0.0         1.0  \n",
       "2         0.0         1.0         0.0            0.0         1.0  \n",
       "3         0.0         0.0         0.0            0.0         1.0  \n",
       "4         0.0         1.0         0.0            0.0         1.0  "
      ]
     },
     "execution_count": 16,
     "metadata": {},
     "output_type": "execute_result"
    }
   ],
   "source": [
    "CT = ColumnSelectTransformer(categorical_variables=['country','source' ], \n",
    "                                numeric_variables=['total_pages_visited','age','new_user'])\n",
    "df_feature = CT.fit_transform(data)\n",
    "columns = list(df_feature.columns)\n",
    "print(columns)\n",
    "df_feature.head()"
   ]
  },
  {
   "cell_type": "markdown",
   "metadata": {},
   "source": [
    "## 2. Build models to predict whether a user will convert.\n",
    "Build prediction models using features generated above."
   ]
  },
  {
   "cell_type": "code",
   "execution_count": 17,
   "metadata": {
    "collapsed": true
   },
   "outputs": [],
   "source": [
    "from sklearn.linear_model import LogisticRegression\n",
    "from sklearn.tree import DecisionTreeClassifier\n",
    "from sklearn.ensemble import RandomForestClassifier, GradientBoostingClassifier, ExtraTreesClassifier\n",
    "from sklearn.naive_bayes import GaussianNB\n",
    "from sklearn.svm import SVC\n",
    "from sklearn.model_selection import cross_val_score\n",
    "from sklearn.metrics import roc_curve, auc, f1_score"
   ]
  },
  {
   "cell_type": "markdown",
   "metadata": {},
   "source": [
    "### 2.1 Split data into training set and test set\n",
    "Split data into traing set(75%) and test set(25%): "
   ]
  },
  {
   "cell_type": "code",
   "execution_count": 18,
   "metadata": {},
   "outputs": [],
   "source": [
    "X =  data.drop('converted', axis=1)\n",
    "y = data['converted']\n",
    "X_train, X_test, y_train, y_test = train_test_split( X, y, test_size= 0.25, random_state=42)"
   ]
  },
  {
   "cell_type": "markdown",
   "metadata": {},
   "source": [
    "### 2.2 Fit different classifiers to training data and plot ROC curve using test data"
   ]
  },
  {
   "cell_type": "code",
   "execution_count": 19,
   "metadata": {},
   "outputs": [
    {
     "name": "stdout",
     "output_type": "stream",
     "text": [
      "Logistic Regression: Test F1 score 0.769128704113 , Test Accuracy 0.98679316888\n",
      "Confusion matrix of test data:\n",
      "[[76267   286]\n",
      " [  758  1739]]\n",
      "Decision Tree: Test F1 score 0.739216987392 , Test Accuracy 0.985085388994\n",
      "Confusion matrix of test data:\n",
      "[[76200   353]\n",
      " [  826  1671]]\n",
      "Regularized Logistic Regression: Test F1 score 0.769502762431 , Test Accuracy 0.986805819102\n",
      "Confusion matrix of test data:\n",
      "[[76266   287]\n",
      " [  756  1741]]\n",
      "Random Forest: Test F1 score 0.757239277161 , Test Accuracy 0.985895003163\n",
      "Confusion matrix of test data:\n",
      "[[76196   357]\n",
      " [  758  1739]]\n",
      "Naive Bayes: Test F1 score 0.597099800967 , Test Accuracy 0.964149272612\n",
      "Confusion matrix of test data:\n",
      "[[74116  2437]\n",
      " [  397  2100]]\n"
     ]
    },
    {
     "data": {
      "text/plain": [
       "<matplotlib.text.Text at 0x116d52ef0>"
      ]
     },
     "execution_count": 19,
     "metadata": {},
     "output_type": "execute_result"
    },
    {
     "data": {
      "image/png": "[encoded data removed]",
      "text/plain": [
       "<matplotlib.figure.Figure at 0x1164ba320>"
      ]
     },
     "metadata": {},
     "output_type": "display_data"
    }
   ],
   "source": [
    "#max_depth= 10, n_estimators = 10, max_features= 10\n",
    "# name -> (line format, classifier)\n",
    "from sklearn.metrics import f1_score, confusion_matrix, accuracy_score\n",
    "\n",
    "CLASS_MAP ={\n",
    "    'Logistic Regression': ('-', LogisticRegression() ),\n",
    "    'Regularized Logistic Regression': ('.', GridSearchCV(LogisticRegression(penalty= 'l2'), {'C':np.logspace(-2, 2.0, num=10)}) ),\n",
    "    'Naive Bayes' :('--', GaussianNB() ),\n",
    "    'Decision Tree' :('.-',DecisionTreeClassifier(min_samples_split=10) ) ,\n",
    "    'Random Forest': (':', RandomForestClassifier(min_samples_split=20)),\n",
    "}\n",
    "\n",
    "plt.figure(figsize= (12,8))\n",
    "for name, (line_fmt, clf) in CLASS_MAP.items():\n",
    "    # train model\n",
    "    model = Pipeline([\n",
    "        ('ColSelect', CT ),# ColumnSelectTransformer\n",
    "        ('clf', clf)       # classifier\n",
    "    ])\n",
    "    \n",
    "    model.fit( X_train, y_train)\n",
    "    # predict probability on test data\n",
    "    preds = model.predict_proba(X_test)\n",
    "    pred = pd.Series(preds[:, 1])\n",
    "    \n",
    "    # Calcualte FPR, TPR for plotting ROC curve\n",
    "    fpr, tpr, thresholds = roc_curve(y_test, pred)\n",
    "    auc_score = auc(fpr, tpr)\n",
    "    label = '%s: AUC=%f' %(name, auc_score)\n",
    "    plt.plot(fpr, tpr, line_fmt, linewidth=5, label= label)\n",
    "    \n",
    "    train_pred = model.predict(X_train)\n",
    "    test_pred = model.predict(X_test)\n",
    "\n",
    "    print(name + ': Test F1 score', f1_score(y_test, test_pred), #sum(train_pred== y_train)/len(y_train),\n",
    "          ', Test Accuracy', accuracy_score(y_test, test_pred))\n",
    "\n",
    "    #print('Confusion matrix of train data:')\n",
    "    #print(confusion_matrix(y_train, train_pred))\n",
    "    print('Confusion matrix of test data:')\n",
    "    print(confusion_matrix(y_test, test_pred))\n",
    "plt.legend(loc= 'lower right')\n",
    "plt.xlabel('False positive rate')\n",
    "plt.ylabel('True positive rate')\n",
    "plt.title('ROC Curve of Different Classfiers')"
   ]
  },
  {
   "cell_type": "code",
   "execution_count": 20,
   "metadata": {},
   "outputs": [
    {
     "data": {
      "text/plain": [
       "0.96841239721695127"
      ]
     },
     "execution_count": 20,
     "metadata": {},
     "output_type": "execute_result"
    }
   ],
   "source": [
    "#accuracy of predicting all flights to be not canceled:\n",
    "sum(y_test==0)/len(y_test)"
   ]
  },
  {
   "cell_type": "markdown",
   "metadata": {},
   "source": [
    "### Findings: \n",
    "* All models have similar AUC. \n",
    "* Beause conversion rate is low, even using the simplest model predicting all user not to convert, the accuracy is high (0.9684).\n",
    "* So accuracy is not a good metric in this case, F1 score is better.\n",
    "* I choose logistic classifier to be the final prediction model, which is a simple model with high F1 score and high accuracy.\n",
    "\n",
    "Logistic Regression is an excellent algorithm for classification. Even though some of the sexier, black box classification algorithms like SVM and RandomForest can perform better in some cases, it's hard to deny the value in knowing exactly what your model is doing. Often times you can get by using RandomForest to select the features of your model and then rebuild the model with Logistic Regression using the best features.\n",
    "\n",
    "### 2.3 Fit the final model using all data:\n",
    "\n",
    "### Model fitting using scikit-learn LogisticRegression"
   ]
  },
  {
   "cell_type": "markdown",
   "metadata": {},
   "source": [
    "* The pipeline approach is very convenient to comparedifferent models.\n",
    "* However, becasue we include all categories when creating dummy variables in the transformer class, \n",
    "it will have multi-colinearity problem for logistic regression. \n",
    "* A better way is to set a reference category for each categorical variable and remove that before fitting model.\n",
    "* Here I set US as reference for country and direct as a reference for source.\n"
   ]
  },
  {
   "cell_type": "code",
   "execution_count": 21,
   "metadata": {},
   "outputs": [
    {
     "data": {
      "text/plain": [
       "LogisticRegression(C=1.0, class_weight=None, dual=False, fit_intercept=True,\n",
       "          intercept_scaling=1, max_iter=100, multi_class='ovr', n_jobs=1,\n",
       "          penalty='l2', random_state=None, solver='liblinear', tol=0.0001,\n",
       "          verbose=0, warm_start=False)"
      ]
     },
     "execution_count": 21,
     "metadata": {},
     "output_type": "execute_result"
    }
   ],
   "source": [
    "df = CT.fit_transform(data).drop(['country_US', 'source_Direct'], axis= 1)\n",
    "clf = LogisticRegression()\n",
    "clf.fit(df, data['converted'])"
   ]
  },
  {
   "cell_type": "code",
   "execution_count": 22,
   "metadata": {},
   "outputs": [
    {
     "name": "stdout",
     "output_type": "stream",
     "text": [
      "[-7.20086815]\n"
     ]
    },
    {
     "data": {
      "text/html": [
       "<div>\n",
       "<table border=\"1\" class=\"dataframe\">\n",
       "  <thead>\n",
       "    <tr style=\"text-align: right;\">\n",
       "      <th></th>\n",
       "      <th>0</th>\n",
       "    </tr>\n",
       "  </thead>\n",
       "  <tbody>\n",
       "    <tr>\n",
       "      <th>total_pages_visited</th>\n",
       "      <td>0.754838</td>\n",
       "    </tr>\n",
       "    <tr>\n",
       "      <th>age</th>\n",
       "      <td>-0.075214</td>\n",
       "    </tr>\n",
       "    <tr>\n",
       "      <th>new_user</th>\n",
       "      <td>-1.735214</td>\n",
       "    </tr>\n",
       "    <tr>\n",
       "      <th>country_China</th>\n",
       "      <td>-3.179391</td>\n",
       "    </tr>\n",
       "    <tr>\n",
       "      <th>country_Germany</th>\n",
       "      <td>0.564013</td>\n",
       "    </tr>\n",
       "    <tr>\n",
       "      <th>country_UK</th>\n",
       "      <td>0.366504</td>\n",
       "    </tr>\n",
       "    <tr>\n",
       "      <th>source_Ads</th>\n",
       "      <td>0.173303</td>\n",
       "    </tr>\n",
       "    <tr>\n",
       "      <th>source_Seo</th>\n",
       "      <td>0.150062</td>\n",
       "    </tr>\n",
       "  </tbody>\n",
       "</table>\n",
       "</div>"
      ],
      "text/plain": [
       "                            0\n",
       "total_pages_visited  0.754838\n",
       "age                 -0.075214\n",
       "new_user            -1.735214\n",
       "country_China       -3.179391\n",
       "country_Germany      0.564013\n",
       "country_UK           0.366504\n",
       "source_Ads           0.173303\n",
       "source_Seo           0.150062"
      ]
     },
     "execution_count": 22,
     "metadata": {},
     "output_type": "execute_result"
    }
   ],
   "source": [
    "print(clf.intercept_)\n",
    "pd.DataFrame( clf.coef_[0] , list(df.columns))\n"
   ]
  },
  {
   "cell_type": "markdown",
   "metadata": {},
   "source": [
    "### Model fitting using statsmodels\n",
    "* Point estimates given by sklearn is not enough for model interpretation, so I use the package statsmodels which produces p-values and confidence intervals for fitting a logistic model."
   ]
  },
  {
   "cell_type": "code",
   "execution_count": 45,
   "metadata": {},
   "outputs": [
    {
     "name": "stdout",
     "output_type": "stream",
     "text": [
      "Optimization terminated successfully.\n",
      "         Current function value: 0.052938\n",
      "         Iterations 11\n"
     ]
    }
   ],
   "source": [
    "import statsmodels.api as sm\n",
    "import pylab as pl\n",
    "logit = sm.Logit(data['converted'], df)\n",
    "# fit the model\n",
    "result = logit.fit()"
   ]
  },
  {
   "cell_type": "code",
   "execution_count": 48,
   "metadata": {},
   "outputs": [
    {
     "data": {
      "text/html": [
       "<table class=\"simpletable\">\n",
       "<caption>Logit Regression Results</caption>\n",
       "<tr>\n",
       "  <th>Dep. Variable:</th>     <td>converted</td>    <th>  No. Observations:  </th>  <td>316198</td> \n",
       "</tr>\n",
       "<tr>\n",
       "  <th>Model:</th>               <td>Logit</td>      <th>  Df Residuals:      </th>  <td>316190</td> \n",
       "</tr>\n",
       "<tr>\n",
       "  <th>Method:</th>               <td>MLE</td>       <th>  Df Model:          </th>  <td>     7</td> \n",
       "</tr>\n",
       "<tr>\n",
       "  <th>Date:</th>          <td>Wed, 02 Aug 2017</td> <th>  Pseudo R-squ.:     </th>  <td>0.6285</td> \n",
       "</tr>\n",
       "<tr>\n",
       "  <th>Time:</th>              <td>23:07:11</td>     <th>  Log-Likelihood:    </th> <td> -16739.</td>\n",
       "</tr>\n",
       "<tr>\n",
       "  <th>converged:</th>           <td>True</td>       <th>  LL-Null:           </th> <td> -45053.</td>\n",
       "</tr>\n",
       "<tr>\n",
       "  <th> </th>                      <td> </td>        <th>  LLR p-value:       </th>  <td> 0.000</td> \n",
       "</tr>\n",
       "</table>\n",
       "<table class=\"simpletable\">\n",
       "<tr>\n",
       "           <td></td>              <th>coef</th>     <th>std err</th>      <th>z</th>      <th>P>|z|</th>  <th>[0.025</th>    <th>0.975]</th>  \n",
       "</tr>\n",
       "<tr>\n",
       "  <th>total_pages_visited</th> <td>    0.6021</td> <td>    0.005</td> <td>  128.610</td> <td> 0.000</td> <td>    0.593</td> <td>    0.611</td>\n",
       "</tr>\n",
       "<tr>\n",
       "  <th>age</th>                 <td>   -0.2388</td> <td>    0.002</td> <td> -127.803</td> <td> 0.000</td> <td>   -0.242</td> <td>   -0.235</td>\n",
       "</tr>\n",
       "<tr>\n",
       "  <th>new_user</th>            <td>   -2.1997</td> <td>    0.031</td> <td>  -70.077</td> <td> 0.000</td> <td>   -2.261</td> <td>   -2.138</td>\n",
       "</tr>\n",
       "<tr>\n",
       "  <th>country_China</th>       <td>   -3.7419</td> <td>    0.112</td> <td>  -33.516</td> <td> 0.000</td> <td>   -3.961</td> <td>   -3.523</td>\n",
       "</tr>\n",
       "<tr>\n",
       "  <th>country_Germany</th>     <td>    0.1850</td> <td>    0.063</td> <td>    2.937</td> <td> 0.003</td> <td>    0.062</td> <td>    0.308</td>\n",
       "</tr>\n",
       "<tr>\n",
       "  <th>country_UK</th>          <td>   -0.0254</td> <td>    0.037</td> <td>   -0.690</td> <td> 0.490</td> <td>   -0.097</td> <td>    0.047</td>\n",
       "</tr>\n",
       "<tr>\n",
       "  <th>source_Ads</th>          <td>   -0.8836</td> <td>    0.039</td> <td>  -22.664</td> <td> 0.000</td> <td>   -0.960</td> <td>   -0.807</td>\n",
       "</tr>\n",
       "<tr>\n",
       "  <th>source_Seo</th>          <td>   -0.9245</td> <td>    0.034</td> <td>  -27.110</td> <td> 0.000</td> <td>   -0.991</td> <td>   -0.858</td>\n",
       "</tr>\n",
       "</table>"
      ],
      "text/plain": [
       "<class 'statsmodels.iolib.summary.Summary'>\n",
       "\"\"\"\n",
       "                           Logit Regression Results                           \n",
       "==============================================================================\n",
       "Dep. Variable:              converted   No. Observations:               316198\n",
       "Model:                          Logit   Df Residuals:                   316190\n",
       "Method:                           MLE   Df Model:                            7\n",
       "Date:                Wed, 02 Aug 2017   Pseudo R-squ.:                  0.6285\n",
       "Time:                        23:07:11   Log-Likelihood:                -16739.\n",
       "converged:                       True   LL-Null:                       -45053.\n",
       "                                        LLR p-value:                     0.000\n",
       "=======================================================================================\n",
       "                          coef    std err          z      P>|z|      [0.025      0.975]\n",
       "---------------------------------------------------------------------------------------\n",
       "total_pages_visited     0.6021      0.005    128.610      0.000       0.593       0.611\n",
       "age                    -0.2388      0.002   -127.803      0.000      -0.242      -0.235\n",
       "new_user               -2.1997      0.031    -70.077      0.000      -2.261      -2.138\n",
       "country_China          -3.7419      0.112    -33.516      0.000      -3.961      -3.523\n",
       "country_Germany         0.1850      0.063      2.937      0.003       0.062       0.308\n",
       "country_UK             -0.0254      0.037     -0.690      0.490      -0.097       0.047\n",
       "source_Ads             -0.8836      0.039    -22.664      0.000      -0.960      -0.807\n",
       "source_Seo             -0.9245      0.034    -27.110      0.000      -0.991      -0.858\n",
       "=======================================================================================\n",
       "\n",
       "Possibly complete quasi-separation: A fraction 0.31 of observations can be\n",
       "perfectly predicted. This might indicate that there is complete\n",
       "quasi-separation. In this case some parameters will not be identified.\n",
       "\"\"\""
      ]
     },
     "execution_count": 48,
     "metadata": {},
     "output_type": "execute_result"
    }
   ],
   "source": [
    "result.summary()"
   ]
  },
  {
   "cell_type": "markdown",
   "metadata": {},
   "source": [
    "We get a great overview of the coefficients of the model, how well those coefficients fit, the overall fit quality, and several other statistical measures.\n",
    "\n",
    "#### Odds ratio\n",
    "\n",
    "Take the exponential of each of the coefficients to generate the odds ratios. This tells you how a 1 unit increase or decrease in a variable affects the odds of being admitted. \n",
    "* For example, we can expect the odds of conversion decrease by about 89% if the user is a new user.\n",
    "\n",
    "We can also do the same calculations using the coefficients estimated using the confidence interval to get a better picture for how uncertainty in variables can impact the conversion rate."
   ]
  },
  {
   "cell_type": "code",
   "execution_count": 52,
   "metadata": {},
   "outputs": [
    {
     "name": "stdout",
     "output_type": "stream",
     "text": [
      "                         2.5%     97.5%        OR\n",
      "total_pages_visited  1.809325  1.842836  1.826004\n",
      "age                  0.784706  0.790474  0.787585\n",
      "new_user             0.104227  0.117874  0.110841\n",
      "country_China        0.019050  0.029509  0.023709\n",
      "country_Germany      1.063483  1.361264  1.203196\n",
      "country_UK           0.907106  1.047850  0.974942\n",
      "source_Ads           0.382897  0.446121  0.413302\n",
      "source_Seo           0.371096  0.424168  0.396746\n"
     ]
    }
   ],
   "source": [
    "# odds ratios and 95% CI\n",
    "params = result.params\n",
    "conf = result.conf_int()\n",
    "conf['OR'] = params\n",
    "conf.columns = ['2.5%', '97.5%', 'OR']\n",
    "print (np.exp(conf))"
   ]
  },
  {
   "cell_type": "markdown",
   "metadata": {},
   "source": [
    "### Interpretation:\n",
    "* Country effect: The probability of conversion is higher for users in China is lower than that of users in the US, which is again lower than conversion rate in German users. \n",
    "* The odds of conversion for new users are 89% lower than that of a user who already have an account.\n",
    "* For every year increase in age, the odds of conversion descrease by 11%.\n",
    "* The odds of conversion for Ads or SEO are both 60% lower compared with that of direct source."
   ]
  },
  {
   "cell_type": "markdown",
   "metadata": {},
   "source": [
    "## 3. Recommendations for the product team and the marketing team\n",
    "Recommendations for the product team and the marketing team to improve conversion rate:\n",
    "We want to improve our product and increase marketing effects to target users with lower conversion rate. \n",
    "\n",
    "The groups of users with lower conversion rate right now are:\n",
    "* users older in age, \n",
    "* users with fewer total page visited\n",
    "* new users\n",
    "* Chinese users\n",
    "* users from the source of Ads and search engine optimization(SEO)."
   ]
  },
  {
   "cell_type": "code",
   "execution_count": null,
   "metadata": {
    "collapsed": true
   },
   "outputs": [],
   "source": []
  }
 ],
 "metadata": {
  "kernelspec": {
   "display_name": "Python 3",
   "language": "python",
   "name": "python3"
  },
  "language_info": {
   "codemirror_mode": {
    "name": "ipython",
    "version": 3
   },
   "file_extension": ".py",
   "mimetype": "text/x-python",
   "name": "python",
   "nbconvert_exporter": "python",
   "pygments_lexer": "ipython3",
   "version": "3.5.3"
  }
 },
 "nbformat": 4,
 "nbformat_minor": 2
}
